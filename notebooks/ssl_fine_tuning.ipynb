{
 "cells": [
  {
   "cell_type": "code",
   "execution_count": null,
   "metadata": {},
   "outputs": [],
   "source": [
    "import os \n",
    "import numpy as np\n",
    "import pandas as pd\n",
    "\n",
    "from huggingface_hub import snapshot_download\n",
    "\n",
    "# Define hugging face token\n",
    "hugging_face_token = \"\" # Set your Hugging Face token here"
   ]
  },
  {
   "cell_type": "markdown",
   "metadata": {},
   "source": [
    "# Download SSL Pretrained Model"
   ]
  },
  {
   "cell_type": "code",
   "execution_count": 24,
   "metadata": {},
   "outputs": [
    {
     "name": "stderr",
     "output_type": "stream",
     "text": [
      "Fetching 3 files: 100%|██████████| 3/3 [00:26<00:00,  8.69s/it]"
     ]
    },
    {
     "name": "stdout",
     "output_type": "stream",
     "text": [
      "SSL Pretrained Model downloaded to /home/jdelfrates/DeepECG_Docker/notebooks/ssl_pretrained_model\n"
     ]
    },
    {
     "name": "stderr",
     "output_type": "stream",
     "text": [
      "\n"
     ]
    }
   ],
   "source": [
    "ssl_pretrained_model = snapshot_download(\n",
    "    repo_id=\"heartwise/ssl_pretrained_model\", \n",
    "    local_dir=\"ssl_pretrained_model\", \n",
    "    repo_type=\"model\", \n",
    "    token=hugging_face_token\n",
    ")\n",
    "print(f\"SSL Pretrained Model downloaded to {ssl_pretrained_model}\") \n"
   ]
  },
  {
   "cell_type": "markdown",
   "metadata": {},
   "source": [
    "# Prepare Finetuning Dataset"
   ]
  },
  {
   "cell_type": "code",
   "execution_count": 4,
   "metadata": {},
   "outputs": [
    {
     "name": "stderr",
     "output_type": "stream",
     "text": [
      "Fetching 6 files: 100%|██████████| 6/6 [00:00<00:00, 25090.55it/s]"
     ]
    },
    {
     "name": "stdout",
     "output_type": "stream",
     "text": [
      "Dataset downloaded to /home/jdelfrates/DeepECG_Docker/notebooks/ptb-xl_lite\n"
     ]
    },
    {
     "name": "stderr",
     "output_type": "stream",
     "text": [
      "\n"
     ]
    }
   ],
   "source": [
    "# Download ptb-xl lite data from Hugging Face\n",
    "dataset_dir = snapshot_download(\n",
    "    repo_id=\"heartwise/PTB-XL_lite\", \n",
    "    local_dir=\"ptb-xl_lite\", \n",
    "    repo_type=\"dataset\", \n",
    "    token=hugging_face_token\n",
    ")\n",
    "\n",
    "print(f\"Dataset downloaded to {dataset_dir}\") "
   ]
  },
  {
   "cell_type": "markdown",
   "metadata": {},
   "source": [
    "##### For binary classification Fairseq-signals expect a csv file with the path to the data and the labels"
   ]
  },
  {
   "cell_type": "code",
   "execution_count": 49,
   "metadata": {},
   "outputs": [
    {
     "name": "stdout",
     "output_type": "stream",
     "text": [
      "(2000, 2500, 12)\n",
      "(2000,)\n"
     ]
    }
   ],
   "source": [
    "x_train_aray = np.load(dataset_dir + '/ptb_xl_afib_2y_train_subset.npy', allow_pickle=False)\n",
    "print(x_train_aray.shape)\n",
    "\n",
    "list_ecg_path = []\n",
    "ecg_signals_path = dataset_dir + '/ecg_files'\n",
    "os.makedirs(ecg_signals_path, exist_ok=True)\n",
    "for i in range(x_train_aray.shape[0]):\n",
    "    ecg_file_path = ecg_signals_path + f'/ecg_{i}.npy'\n",
    "    list_ecg_path.append(ecg_file_path)\n",
    "    np.save(ecg_file_path, x_train_aray[i], allow_pickle=False)\n",
    "    \n",
    "y_train_labels = pd.read_parquet(dataset_dir + '/ptb_xl_afib_2y_train_subset_labels.parquet')\n",
    "labels = y_train_labels['label_2y'].to_numpy()\n",
    "print(labels.shape)\n",
    "\n",
    "# Save labels to a csv file\n",
    "labels_df = pd.DataFrame({'npy_path': list_ecg_path, 'afib_2y': labels})\n",
    "labels_df.to_csv(dataset_dir + '/afib_2y_labels.csv', index=False)"
   ]
  },
  {
   "cell_type": "markdown",
   "metadata": {},
   "source": [
    "##### Generate SSL manifests"
   ]
  },
  {
   "cell_type": "code",
   "execution_count": 50,
   "metadata": {},
   "outputs": [
    {
     "name": "stdout",
     "output_type": "stream",
     "text": [
      "-rw-rw-r--. 1 jdelfrates jdelfrates 156907 Jan 27 07:19 /home/jdelfrates/DeepECG_Docker/notebooks/ptb-xl_lite/afib_2y_labels.csv\n",
      "-rw-r--r--. 1 jdelfrates jdelfrates 133 Jan 27 07:04 /home/jdelfrates/DeepECG_Docker/notebooks/ssl_manifests/finetuning/afib_2y/train.tsv\n"
     ]
    }
   ],
   "source": [
    "# Set up dataset_dir/afib_2y_labels.csv path \n",
    "# to SSL manifests $(pwd)/ssl_manifests/finetuning/afib_2y\n",
    "!ls -l $(pwd)/ptb-xl_lite/afib_2y_labels.csv\n",
    "!ls -l $(pwd)/ssl_manifests/finetuning/afib_2y/train.tsv"
   ]
  },
  {
   "cell_type": "markdown",
   "metadata": {},
   "source": [
    "# Setup Project configuration"
   ]
  },
  {
   "cell_type": "code",
   "execution_count": 28,
   "metadata": {},
   "outputs": [],
   "source": [
    "def generate_train_cli(\n",
    "    devices=1,\n",
    "    encoder='_last',\n",
    "    task = 'afib_2y',\n",
    "    num_labels = 77,\n",
    "    mode='ft', # possible values are 'ft', 'le', 'e2e'\n",
    "    is_df=True,\n",
    "    cls='',\n",
    "    wd=0,\n",
    "    criterion='binary_cross_entropy_with_logits'\n",
    "):    \n",
    "    def loss_str():\n",
    "        if criterion == 'asymmetric':\n",
    "            return 'as'\n",
    "        if criterion == 'binary_focal':\n",
    "            return 'bf'\n",
    "        if criterion == 'mse':\n",
    "            return 'mse'\n",
    "        if criterion == 'binary_cross_entropy_with_logits':\n",
    "            return 'bce'\n",
    "        if criterion == 'mlsml':\n",
    "            return 'mlsml'\n",
    "        assert False, 'Invalid error'\n",
    "    \n",
    "    cli = f'CUDA_VISIBLE_DEVICES={devices} fairseq-hydra-train '\n",
    "    if criterion == 'mse':\n",
    "        cli += f'common.fp16=false '\n",
    "    else:\n",
    "        cli +=f'common.fp16=true '\n",
    "    cli += f'task.data=$(pwd)/ssl_manifests/finetuning/{task} '\n",
    "    if mode == 'e2e':\n",
    "        cli += f'model.no_pretrained_weights=true '\n",
    "        encoder = '_e2e'\n",
    "    else:\n",
    "        cli += f'model.model_path=$(pwd)/ssl_pretrained_model/SSL_pretrained.pt '\n",
    "    if cls == 'attn':\n",
    "        cli += f'model._name=ecg_transformer_attn_classifier '\n",
    "    if wd:\n",
    "        cli += f'optimizer.weight_decay={wd} '\n",
    "    if mode == 'le':\n",
    "        cli += f'model.linear_evaluation=true '\n",
    "    \n",
    "    if is_df:\n",
    "        cli += f'+task.df_dataset=true '\n",
    "    else:\n",
    "        cli += f'+task.npy_dataset=true '\n",
    "\n",
    "    cli += f'model.num_labels={num_labels} '\n",
    "    cli += f'criterion._name={criterion} '\n",
    "    if cls == 'attn':\n",
    "        cls = '-attn'\n",
    "    cli += f'checkpoint.save_dir=checkpoint{encoder}-{mode}-{task}-{loss_str()}{cls} '\n",
    "    cli += '--config-dir ../fairseq-signals/examples/w2v_cmsc/config/finetuning/ecg_transformer --config-name diagnosis'\n",
    "\n",
    "    return cli"
   ]
  },
  {
   "cell_type": "code",
   "execution_count": 29,
   "metadata": {},
   "outputs": [
    {
     "name": "stdout",
     "output_type": "stream",
     "text": [
      "CUDA_VISIBLE_DEVICES=1 fairseq-hydra-train common.fp16=true task.data=$(pwd)/ssl_manifests/finetuning/afib_2y model.model_path=$(pwd)/ssl_pretrained_model/SSL_pretrained.pt +task.df_dataset=true model.num_labels=1 criterion._name=binary_cross_entropy_with_logits checkpoint.save_dir=checkpoint_last-ft-afib_2y-bce --config-dir ../fairseq-signals/examples/w2v_cmsc/config/finetuning/ecg_transformer --config-name diagnosis\n"
     ]
    }
   ],
   "source": [
    "# Generate train command for fairseq-sginals fine tuning\n",
    "train_cli = generate_train_cli(\n",
    "    is_df=True,\n",
    "    num_labels=1,\n",
    "    criterion='binary_cross_entropy_with_logits'\n",
    ")\n",
    "print(train_cli)"
   ]
  },
  {
   "cell_type": "code",
   "execution_count": 30,
   "metadata": {},
   "outputs": [
    {
     "name": "stdout",
     "output_type": "stream",
     "text": [
      "[2025-01-27 11:30:42,983][fairseq_cli.train][INFO] - {'_name': None,\n",
      " 'checkpoint': {'_name': None, 'save_dir': 'checkpoint_last-ft-afib_2y-bce', 'restore_file': 'checkpoint_last.pt', 'finetune_from_model': None, 'reset_dataloader': False, 'reset_lr_scheduler': False, 'reset_meters': False, 'reset_optimizer': False, 'optimizer_overrides': '{}', 'save_interval': 1, 'save_interval_updates': 0, 'keep_interval_updates': -1, 'keep_interval_updates_pattern': -1, 'keep_last_epochs': 1, 'keep_best_checkpoints': -1, 'no_save': False, 'no_epoch_checkpoints': False, 'no_last_checkpoints': False, 'no_save_optimizer_state': False, 'best_checkpoint_metric': 'loss', 'maximize_best_checkpoint_metric': False, 'patience': 30, 'checkpoint_suffix': '', 'checkpoint_shard_count': 1, 'load_checkpoint_on_all_dp_ranks': False},\n",
      " 'common': {'_name': None, 'no_progress_bar': False, 'log_interval': 10, 'log_format': 'json', 'log_file': None, 'wandb_project': 'diagnosis-prediction', 'wandb_entity': None, 'seed': 1, 'fp16': True, 'memory_efficient_fp16': False, 'fp16_no_flatten_grads': False, 'fp16_init_scale': 128, 'fp16_scale_window': None, 'fp16_scale_tolerance': 0.0, 'on_cpu_convert_precision': False, 'min_loss_scale': 0.0001, 'threshold_loss_scale': None, 'empty_cache_freq': 0, 'all_gather_list_size': 2048000, 'model_parallel_size': 1, 'profile': False, 'reset_logging': False, 'suppress_crashes': False},\n",
      " 'common_eval': {'_name': None, 'path': None, 'quiet': False, 'model_overrides': '{}', 'save_outputs': False, 'results_path': None},\n",
      " 'criterion': {'_name': 'binary_cross_entropy_with_logits', 'weight': None, 'threshold': 0.5, 'report_auc': True, 'auc_average': 'macro', 'pos_weight': None, 'report_cinc_score': False, 'weights_file': '???', 'per_log_keys': []},\n",
      " 'dataset': {'_name': None, 'num_workers': 6, 'skip_invalid_size_inputs_valid_test': False, 'max_tokens': None, 'batch_size': 128, 'required_batch_size_multiple': 8, 'data_buffer_size': 10, 'train_subset': 'train', 'valid_subset': 'train', 'combine_valid_subsets': None, 'ignore_unused_valid_subsets': False, 'validate_interval': 1, 'validate_interval_updates': 0, 'validate_after_updates': 0, 'fixed_validation_seed': None, 'disable_validation': False, 'max_tokens_valid': None, 'batch_size_valid': 128, 'max_valid_steps': None, 'curriculum': 0, 'num_shards': 1, 'shard_id': 0},\n",
      " 'distributed_training': {'_name': None, 'distributed_world_size': 1, 'distributed_rank': 0, 'distributed_backend': 'nccl', 'distributed_init_method': None, 'distributed_port': 12355, 'device_id': 0, 'ddp_comm_hook': 'none', 'bucket_cap_mb': 25, 'fix_batches_to_gpus': False, 'find_unused_parameters': False, 'heartbeat_timeout': -1, 'broadcast_buffers': False, 'fp16': True, 'memory_efficient_fp16': False},\n",
      " 'job_logging_cfg': {'version': 1, 'formatters': {'simple': {'format': '[%(asctime)s][%(name)s][%(levelname)s] - %(message)s'}}, 'handlers': {'console': {'class': 'logging.StreamHandler', 'formatter': 'simple', 'stream': 'ext://sys.stdout'}, 'file': {'class': 'logging.FileHandler', 'formatter': 'simple', 'filename': 'hydra_train.log'}}, 'root': {'level': 'INFO', 'handlers': ['console', 'file']}, 'disable_existing_loggers': False},\n",
      " 'lr_scheduler': {'_name': 'fixed', 'force_anneal': None, 'lr_shrink': 0.1, 'warmup_updates': 0, 'lr': [5e-05]},\n",
      " 'model': {'_name': 'ecg_transformer_classifier', 'all_gather': False, 'normalize': False, 'filter': False, 'data': '/home/jdelfrates/DeepECG_Docker/notebooks/ssl_manifests/finetuning/afib_2y', 'args': None, 'encoder_layers': 12, 'encoder_embed_dim': 768, 'encoder_ffn_embed_dim': 3072, 'encoder_attention_heads': 12, 'layer_norm_first': False, 'dropout': 0.0, 'attention_dropout': 0.0, 'activation_dropout': 0.1, 'encoder_layerdrop': 0.0, 'dropout_input': 0.0, 'dropout_features': 0.0, 'apply_mask': False, 'mask_length': 10, 'mask_prob': 0.0, 'mask_selection': 'static', 'mask_other': 0.0, 'no_mask_overlap': False, 'mask_min_space': 1, 'mask_channel_length': 10, 'mask_channel_prob': 0.0, 'mask_channel_selection': 'static', 'mask_channel_other': 0.0, 'no_mask_channel_overlap': False, 'mask_channel_min_space': 1, 'extractor_mode': 'default', 'conv_feature_layers': '[(256, 2, 2)] * 4', 'in_d': 12, 'conv_bias': False, 'feature_grad_mult': 0.0, 'conv_pos': 128, 'conv_pos_groups': 16, 'model_path': '/home/jdelfrates/DeepECG_Docker/notebooks/ssl_pretrained_model/SSL_pretrained.pt', 'no_pretrained_weights': False, 'freeze_finetune_updates': 0, 'linear_evaluation': None, 'final_dropout': 0.0, 'num_labels': 1},\n",
      " 'optimization': {'_name': None, 'max_epoch': 10, 'max_update': 32000000, 'lr': [5e-05], 'stop_time_hours': 0.0, 'clip_norm': 0.0, 'update_freq': [1], 'stop_min_lr': -1.0},\n",
      " 'optimizer': {'_name': 'adam', 'adam_betas': '(0.9, 0.98)', 'adam_eps': 1e-08, 'weight_decay': 0.0, 'use_old_adam': False, 'lr': [5e-05]},\n",
      " 'task': {'_name': 'ecg_classification', 'data': '/home/jdelfrates/DeepECG_Docker/notebooks/ssl_manifests/finetuning/afib_2y', 'leads_to_load': None, 'leads_bucket': None, 'bucket_selection': 'uniform', 'sample_rate': None, 'filter': False, 'normalize': False, 'mean_path': None, 'std_path': None, 'enable_padding': True, 'enable_padding_leads': False, 'max_sample_size': None, 'min_sample_size': None, 'num_batch_buckets': 0, 'precompute_mask_indices': False, 'perturbation_mode': None, 'p': [1.0], 'max_amplitude': 0.1, 'min_amplitude': 0.0, 'dependency': True, 'shift_ratio': 0.2, 'num_segment': 1, 'max_freq': 0.2, 'min_freq': 0.01, 'k': 3, 'mask_leads_selection': 'random', 'mask_leads_prob': 0.5, 'mask_leads_condition': [4, 5], 'inferred_w2v_config': None, 'inferred_3kg_config': None, 'criterion_name': 'binary_cross_entropy_with_logits', 'model_name': None, 'clocs_mode': None, 'path_dataset': False, 'npy_dataset': False, 'df_dataset': True, 'label_file': None, 'load_specific_lead': False}}\n",
      "???????????????????? {'_name': 'ecg_classification', 'data': '/home/jdelfrates/DeepECG_Docker/notebooks/ssl_manifests/finetuning/afib_2y', 'leads_to_load': None, 'leads_bucket': None, 'bucket_selection': 'uniform', 'sample_rate': None, 'filter': False, 'normalize': False, 'mean_path': None, 'std_path': None, 'enable_padding': True, 'enable_padding_leads': False, 'max_sample_size': None, 'min_sample_size': None, 'num_batch_buckets': 0, 'precompute_mask_indices': False, 'perturbation_mode': None, 'p': [1.0], 'max_amplitude': 0.1, 'min_amplitude': 0.0, 'dependency': True, 'shift_ratio': 0.2, 'num_segment': 1, 'max_freq': 0.2, 'min_freq': 0.01, 'k': 3, 'mask_leads_selection': 'random', 'mask_leads_prob': 0.5, 'mask_leads_condition': [4, 5], 'inferred_w2v_config': None, 'inferred_3kg_config': None, 'criterion_name': 'binary_cross_entropy_with_logits', 'model_name': None, 'clocs_mode': None, 'path_dataset': False, 'npy_dataset': False, 'df_dataset': True, 'label_file': None, 'load_specific_lead': False}\n",
      "???????????????????? {'_name': 'ecg_pretraining', 'data': '/home/jdelfrates/DeepECG_Docker/notebooks/ssl_manifests/finetuning/afib_2y', 'leads_to_load': None, 'leads_bucket': None, 'bucket_selection': 'uniform', 'sample_rate': None, 'filter': False, 'normalize': False, 'mean_path': None, 'std_path': None, 'enable_padding': True, 'enable_padding_leads': False, 'max_sample_size': None, 'min_sample_size': None, 'num_batch_buckets': 0, 'precompute_mask_indices': False, 'perturbation_mode': ['random_leads_masking'], 'p': [1.0], 'max_amplitude': 0.1, 'min_amplitude': 0.0, 'dependency': True, 'shift_ratio': 0.2, 'num_segment': 1, 'max_freq': 0.2, 'min_freq': 0.01, 'k': 3, 'mask_leads_selection': 'random', 'mask_leads_prob': 0.5, 'mask_leads_condition': [4, 5], 'inferred_w2v_config': None, 'inferred_3kg_config': None, 'criterion_name': 'wav2vec2_with_cmsc', 'model_name': None, 'clocs_mode': None}\n"
     ]
    },
    {
     "name": "stderr",
     "output_type": "stream",
     "text": [
      "/home/jdelfrates/DeepECG_Docker/deploy-venv/lib/python3.9/site-packages/torch/nn/utils/weight_norm.py:30: UserWarning: torch.nn.utils.weight_norm is deprecated in favor of torch.nn.utils.parametrizations.weight_norm.\n",
      "  warnings.warn(\"torch.nn.utils.weight_norm is deprecated in favor of torch.nn.utils.parametrizations.weight_norm.\")\n"
     ]
    },
    {
     "name": "stdout",
     "output_type": "stream",
     "text": [
      "[2025-01-27 11:30:44,580][fairseq_signals.models.transformer][INFO] - Loaded pre-trained model parameters from /home/jdelfrates/DeepECG_Docker/notebooks/ssl_pretrained_model/SSL_pretrained.pt\n",
      "########## {'_name': 'ecg_transformer_classifier', 'all_gather': False, 'normalize': False, 'filter': False, 'data': '/home/jdelfrates/DeepECG_Docker/notebooks/ssl_manifests/finetuning/afib_2y', 'args': {'_name': None, 'common': {'_name': None, 'no_progress_bar': False, 'log_interval': 25, 'log_format': 'json', 'log_file': None, 'wandb_project': 'wav2vec2-pretraining', 'wandb_entity': None, 'seed': 1, 'fp16': True, 'memory_efficient_fp16': False, 'fp16_no_flatten_grads': False, 'fp16_init_scale': 128, 'fp16_scale_window': None, 'fp16_scale_tolerance': 0.0, 'on_cpu_convert_precision': False, 'min_loss_scale': 0.0001, 'threshold_loss_scale': None, 'empty_cache_freq': 0, 'all_gather_list_size': 16384, 'model_parallel_size': 1, 'profile': False, 'reset_logging': False, 'suppress_crashes': False}, 'common_eval': {'_name': None, 'path': None, 'quiet': False, 'model_overrides': '{}', 'save_outputs': False, 'results_path': None}, 'distributed_training': {'_name': None, 'distributed_world_size': 3, 'distributed_rank': 0, 'distributed_backend': 'nccl', 'distributed_init_method': 'tcp://localhost:13127', 'distributed_port': 12355, 'device_id': 0, 'ddp_comm_hook': 'none', 'bucket_cap_mb': 25, 'fix_batches_to_gpus': False, 'find_unused_parameters': False, 'heartbeat_timeout': -1, 'broadcast_buffers': False, 'fp16': True, 'memory_efficient_fp16': False}, 'dataset': {'_name': None, 'num_workers': 6, 'skip_invalid_size_inputs_valid_test': False, 'max_tokens': None, 'batch_size': 342, 'required_batch_size_multiple': 8, 'data_buffer_size': 10, 'train_subset': 'train', 'valid_subset': '', 'combine_valid_subsets': None, 'ignore_unused_valid_subsets': False, 'validate_interval': 1, 'validate_interval_updates': 0, 'validate_after_updates': 0, 'fixed_validation_seed': None, 'disable_validation': True, 'max_tokens_valid': None, 'batch_size_valid': 342, 'max_valid_steps': None, 'curriculum': 0, 'num_shards': 1, 'shard_id': 0}, 'optimization': {'_name': None, 'max_epoch': 1000, 'max_update': 0, 'lr': [5e-05], 'stop_time_hours': 0.0, 'clip_norm': 0.0, 'update_freq': [2], 'stop_min_lr': -1.0}, 'checkpoint': {'_name': None, 'save_dir': 'checkpoints-all', 'restore_file': 'checkpoint_last.pt', 'finetune_from_model': None, 'reset_dataloader': False, 'reset_lr_scheduler': False, 'reset_meters': False, 'reset_optimizer': False, 'optimizer_overrides': '{}', 'save_interval': 25, 'save_interval_updates': 0, 'keep_interval_updates': -1, 'keep_interval_updates_pattern': -1, 'keep_last_epochs': 10, 'keep_best_checkpoints': -1, 'no_save': False, 'no_epoch_checkpoints': False, 'no_last_checkpoints': False, 'no_save_optimizer_state': False, 'best_checkpoint_metric': 'loss', 'maximize_best_checkpoint_metric': False, 'patience': -1, 'checkpoint_suffix': '', 'checkpoint_shard_count': 1, 'load_checkpoint_on_all_dp_ranks': False}, 'model': {'_name': 'wav2vec2_cmsc', 'all_gather': False, 'normalize': False, 'filter': False, 'data': '/media/data1/achilsowa/datasets/fairseq/mhi-mimic-code15/manifest/cmsc/', 'args': None, 'encoder_layers': 12, 'encoder_embed_dim': 768, 'encoder_ffn_embed_dim': 3072, 'encoder_attention_heads': 12, 'layer_norm_first': False, 'dropout': 0.0, 'attention_dropout': 0.0, 'activation_dropout': 0.1, 'encoder_layerdrop': 0.0, 'dropout_input': 0.0, 'dropout_features': 0.1, 'apply_mask': True, 'mask_length': 10, 'mask_prob': 0.65, 'mask_selection': 'static', 'mask_other': 0.0, 'no_mask_overlap': False, 'mask_min_space': 1, 'mask_channel_length': 10, 'mask_channel_prob': 0.0, 'mask_channel_selection': 'static', 'mask_channel_other': 0.0, 'no_mask_channel_overlap': False, 'mask_channel_min_space': 1, 'extractor_mode': 'default', 'conv_feature_layers': '[(256, 2, 2)] * 4', 'in_d': 12, 'conv_bias': False, 'feature_grad_mult': 0.0, 'conv_pos': 128, 'conv_pos_groups': 16, 'logit_temp': 0.1, 'quantize_targets': True, 'quantize_input': False, 'same_quantizer': False, 'target_glu': False, 'latent_vars': 320, 'latent_groups': 2, 'latent_dim': 0, 'final_dim': 256, 'num_negatives': 100, 'negatives_from_everywhere': False, 'cross_sample_negatives': 0, 'codebook_negatives': 0, 'latent_temp': [2.0, 0.5, 0.999995]}, 'task': {'_name': 'ecg_pretraining', 'data': '/media/data1/achilsowa/datasets/fairseq/mhi-mimic-code15/manifest/cmsc/', 'leads_to_load': None, 'leads_bucket': None, 'bucket_selection': 'uniform', 'sample_rate': None, 'filter': False, 'normalize': False, 'mean_path': None, 'std_path': None, 'enable_padding': True, 'enable_padding_leads': False, 'max_sample_size': None, 'min_sample_size': None, 'num_batch_buckets': 0, 'precompute_mask_indices': False, 'perturbation_mode': ['random_leads_masking'], 'p': [1.0], 'max_amplitude': 0.1, 'min_amplitude': 0.0, 'dependency': True, 'shift_ratio': 0.2, 'num_segment': 1, 'max_freq': 0.2, 'min_freq': 0.01, 'k': 3, 'mask_leads_selection': 'random', 'mask_leads_prob': 0.5, 'mask_leads_condition': [4, 5], 'inferred_w2v_config': None, 'inferred_3kg_config': None, 'criterion_name': 'wav2vec2_with_cmsc', 'model_name': None, 'clocs_mode': None}, 'criterion': None, 'lr_scheduler': None, 'optimizer': {'_name': 'adam', 'adam_betas': '(0.9, 0.98)', 'adam_eps': 1e-06, 'weight_decay': 0.01, 'use_old_adam': False, 'lr': [5e-05]}, 'job_logging_cfg': {'version': 1, 'formatters': {'simple': {'format': '[%(asctime)s][%(name)s][%(levelname)s] - %(message)s'}}, 'handlers': {'console': {'class': 'logging.StreamHandler', 'formatter': 'simple', 'stream': 'ext://sys.stdout'}, 'file': {'class': 'logging.FileHandler', 'formatter': 'simple', 'filename': 'hydra_train.log'}}, 'root': {'level': 'INFO', 'handlers': ['console', 'file']}, 'disable_existing_loggers': False}}, 'encoder_layers': 12, 'encoder_embed_dim': 768, 'encoder_ffn_embed_dim': 3072, 'encoder_attention_heads': 12, 'layer_norm_first': False, 'dropout': 0.0, 'attention_dropout': 0.0, 'activation_dropout': 0.1, 'encoder_layerdrop': 0.0, 'dropout_input': 0.0, 'dropout_features': 0.0, 'apply_mask': False, 'mask_length': 10, 'mask_prob': 0.0, 'mask_selection': static, 'mask_other': 0.0, 'no_mask_overlap': False, 'mask_min_space': 1, 'mask_channel_length': 10, 'mask_channel_prob': 0.0, 'mask_channel_selection': static, 'mask_channel_other': 0.0, 'no_mask_channel_overlap': False, 'mask_channel_min_space': 1, 'extractor_mode': 'default', 'conv_feature_layers': '[(256, 2, 2)] * 4', 'in_d': 12, 'conv_bias': False, 'feature_grad_mult': 0.0, 'conv_pos': 128, 'conv_pos_groups': 16, 'model_path': '/home/jdelfrates/DeepECG_Docker/notebooks/ssl_pretrained_model/SSL_pretrained.pt', 'no_pretrained_weights': False, 'freeze_finetune_updates': 0, 'linear_evaluation': None, 'final_dropout': 0.0, 'num_labels': 1}\n",
      "[2025-01-27 11:30:44,633][fairseq_cli.train][INFO] - ECGTransformerClassificationModel(\n",
      "  (encoder): Wav2Vec2CMSCModel(\n",
      "    (dropout_input): Dropout(p=0.0, inplace=False)\n",
      "    (dropout_features): Dropout(p=0.1, inplace=False)\n",
      "    (encoder): TransformerEncoder(\n",
      "      (layers): ModuleList(\n",
      "        (0-11): 12 x TransformerEncoderLayer(\n",
      "          (self_attn): MultiHeadAttention(\n",
      "            (dropout): Dropout()\n",
      "            (k_proj): Linear(in_features=768, out_features=768, bias=True)\n",
      "            (v_proj): Linear(in_features=768, out_features=768, bias=True)\n",
      "            (q_proj): Linear(in_features=768, out_features=768, bias=True)\n",
      "            (out_proj): Linear(in_features=768, out_features=768, bias=True)\n",
      "          )\n",
      "          (dropout1): Dropout(p=0.0, inplace=False)\n",
      "          (dropout2): Dropout(p=0.1, inplace=False)\n",
      "          (dropout3): Dropout(p=0.0, inplace=False)\n",
      "          (self_attn_layer_norm): LayerNorm((768,), eps=1e-05, elementwise_affine=True)\n",
      "          (fc1): Linear(in_features=768, out_features=3072, bias=True)\n",
      "          (fc2): Linear(in_features=3072, out_features=768, bias=True)\n",
      "          (final_layer_norm): LayerNorm((768,), eps=1e-05, elementwise_affine=True)\n",
      "        )\n",
      "      )\n",
      "      (layer_norm): LayerNorm((768,), eps=1e-05, elementwise_affine=True)\n",
      "    )\n",
      "    (feature_extractor): ConvFeatureExtraction(\n",
      "      (conv_layers): ModuleList(\n",
      "        (0): Sequential(\n",
      "          (0): Conv1d(12, 256, kernel_size=(2,), stride=(2,), bias=False)\n",
      "          (1): Dropout(p=0.0, inplace=False)\n",
      "          (2): Fp32GroupNorm(256, 256, eps=1e-05, affine=True)\n",
      "          (3): GELU(approximate='none')\n",
      "        )\n",
      "        (1-3): 3 x Sequential(\n",
      "          (0): Conv1d(256, 256, kernel_size=(2,), stride=(2,), bias=False)\n",
      "          (1): Dropout(p=0.0, inplace=False)\n",
      "          (2): GELU(approximate='none')\n",
      "        )\n",
      "      )\n",
      "    )\n",
      "    (post_extract_proj): Linear(in_features=256, out_features=768, bias=True)\n",
      "    (conv_pos): ConvPositionalEncoding(\n",
      "      (pos_conv): Sequential(\n",
      "        (0): Conv1d(768, 768, kernel_size=(128,), stride=(1,), padding=(64,), groups=16)\n",
      "        (1): SamePad()\n",
      "        (2): GELU(approximate='none')\n",
      "      )\n",
      "    )\n",
      "    (layer_norm): LayerNorm((256,), eps=1e-05, elementwise_affine=True)\n",
      "    (quantizer): None\n",
      "    (project_q): None\n",
      "    (final_proj): None\n",
      "  )\n",
      "  (final_dropout): Dropout(p=0.0, inplace=False)\n",
      "  (proj): Linear(in_features=768, out_features=1, bias=True)\n",
      ")\n",
      "[2025-01-27 11:30:44,635][fairseq_cli.train][INFO] - task: ECGDiagnosisTask\n",
      "[2025-01-27 11:30:44,635][fairseq_cli.train][INFO] - model: ECGTransformerClassificationModel\n",
      "[2025-01-27 11:30:44,635][fairseq_cli.train][INFO] - criterion: BinaryCrossEntropyWithLogitsCriterion\n",
      "[2025-01-27 11:30:44,636][fairseq_cli.train][INFO] - num. shared model params: 90,374,017 (num. trained: 90,374,017)\n",
      "[2025-01-27 11:30:44,636][fairseq_cli.train][INFO] - num. expert model params: 0 (num. trained: 0)\n",
      "########## ['afib_2y']                                                npy_path  afib_2y\n",
      "0     /home/jdelfrates/DeepECG_Docker/notebooks/ptb-...        0\n",
      "1     /home/jdelfrates/DeepECG_Docker/notebooks/ptb-...        0\n",
      "2     /home/jdelfrates/DeepECG_Docker/notebooks/ptb-...        0\n",
      "3     /home/jdelfrates/DeepECG_Docker/notebooks/ptb-...        0\n",
      "4     /home/jdelfrates/DeepECG_Docker/notebooks/ptb-...        0\n",
      "...                                                 ...      ...\n",
      "1995  /home/jdelfrates/DeepECG_Docker/notebooks/ptb-...        0\n",
      "1996  /home/jdelfrates/DeepECG_Docker/notebooks/ptb-...        1\n",
      "1997  /home/jdelfrates/DeepECG_Docker/notebooks/ptb-...        1\n",
      "1998  /home/jdelfrates/DeepECG_Docker/notebooks/ptb-...        1\n",
      "1999  /home/jdelfrates/DeepECG_Docker/notebooks/ptb-...        1\n",
      "\n",
      "[2000 rows x 2 columns] 2000 /home/jdelfrates/DeepECG_Docker/notebooks/ptb-xl_lite/afib_2y_labels.csv\n",
      "[2025-01-27 11:30:44,837][fairseq_signals.trainer][INFO] - detected shared parameter: encoder.mask_emb <- encoder.feature_extractor.conv_layers.0.0.bias\n",
      "[2025-01-27 11:30:44,837][fairseq_signals.trainer][INFO] - detected shared parameter: encoder.mask_emb <- encoder.feature_extractor.conv_layers.1.0.bias\n",
      "[2025-01-27 11:30:44,837][fairseq_signals.trainer][INFO] - detected shared parameter: encoder.mask_emb <- encoder.feature_extractor.conv_layers.2.0.bias\n",
      "[2025-01-27 11:30:44,837][fairseq_signals.trainer][INFO] - detected shared parameter: encoder.mask_emb <- encoder.feature_extractor.conv_layers.3.0.bias\n",
      "[2025-01-27 11:30:44,838][fairseq_signals.utils.utils][INFO] - ***********************CUDA enviroments for all 1 workers***********************\n",
      "[2025-01-27 11:30:44,838][fairseq_signals.utils.utils][INFO] - rank   0: capabilities =  8.6  ; total memory = 47.529 GB ; name = NVIDIA RTX A6000                        \n",
      "[2025-01-27 11:30:44,838][fairseq_signals.utils.utils][INFO] - ***********************CUDA enviroments for all 1 workers***********************\n",
      "[2025-01-27 11:30:44,838][fairseq_cli.train][INFO] - training on 1 devices (GPUs)\n",
      "[2025-01-27 11:30:44,839][fairseq_cli.train][INFO] - max tokens per device = None and signals per device = 128\n",
      "[2025-01-27 11:30:44,839][fairseq_signals.trainer][INFO] - Preparing to load checkpoint checkpoint_last-ft-afib_2y-bce/checkpoint_last.pt\n",
      "[2025-01-27 11:30:44,839][fairseq_signals.trainer][INFO] - No existing checkpoint found ()\n",
      "[2025-01-27 11:30:44,839][fairseq_signals.trainer][INFO] - loading train data for epoch 1\n",
      "########## ['afib_2y']                                                npy_path  afib_2y\n",
      "0     /home/jdelfrates/DeepECG_Docker/notebooks/ptb-...        0\n",
      "1     /home/jdelfrates/DeepECG_Docker/notebooks/ptb-...        0\n",
      "2     /home/jdelfrates/DeepECG_Docker/notebooks/ptb-...        0\n",
      "3     /home/jdelfrates/DeepECG_Docker/notebooks/ptb-...        0\n",
      "4     /home/jdelfrates/DeepECG_Docker/notebooks/ptb-...        0\n",
      "...                                                 ...      ...\n",
      "1995  /home/jdelfrates/DeepECG_Docker/notebooks/ptb-...        0\n",
      "1996  /home/jdelfrates/DeepECG_Docker/notebooks/ptb-...        1\n",
      "1997  /home/jdelfrates/DeepECG_Docker/notebooks/ptb-...        1\n",
      "1998  /home/jdelfrates/DeepECG_Docker/notebooks/ptb-...        1\n",
      "1999  /home/jdelfrates/DeepECG_Docker/notebooks/ptb-...        1\n",
      "\n",
      "[2000 rows x 2 columns] 2000 /home/jdelfrates/DeepECG_Docker/notebooks/ptb-xl_lite/afib_2y_labels.csv\n",
      "[2025-01-27 11:30:45,343][fairseq_signals.logging.progress_bar][WARNING] - wandb not found, pip install wandb\n",
      "[2025-01-27 11:30:45,344][fairseq_signals.trainer][INFO] - begin training epoch 1\n",
      "[2025-01-27 11:30:45,344][fairseq_cli.train][INFO] - Start iterating over samples\n",
      "[2025-01-27 11:30:46,334][fairseq_signals.trainer][INFO] - NOTE: gradient overflow detected, ignoring gradient, setting loss scale to: 64.0\n",
      "[2025-01-27 11:30:47,916][fairseq_signals.trainer][INFO] - NOTE: gradient overflow detected, ignoring gradient, setting loss scale to: 32.0\n",
      "[2025-01-27 11:30:48,936][fairseq_signals.trainer][INFO] - NOTE: gradient overflow detected, ignoring gradient, setting loss scale to: 16.0\n",
      "[2025-01-27 11:30:49,456][train_inner][INFO] - {\"epoch\": 1, \"update\": 0.812, \"loss\": \"14.854\", \"nsignals\": \"128\", \"accuracy\": \"0.52734\", \"em_accuracy\": \"0.52734\", \"precision\": \"0.44464\", \"recall\": \"0.45856\", \"ups\": \"3.18\", \"num_updates\": \"10\", \"lr\": \"5e-05\", \"gnorm\": \"159.449\", \"loss_scale\": \"16\", \"train_wall\": \"4\", \"gb_free\": \"37.6\", \"wall\": \"5\"}\n",
      "[2025-01-27 11:30:50,156][fairseq_cli.train][INFO] - begin validation on \"train\" subset\n",
      "[2025-01-27 11:30:50,421][fairseq_signals.logging.progress_bar][WARNING] - wandb not found, pip install wandb\n",
      "[2025-01-27 11:30:52,160][train][INFO] - {\"epoch\": 2, \"train_loss\": \"6.366\", \"train_nsignals\": \"125\", \"train_accuracy\": \"0.485\", \"train_em_accuracy\": \"0.485\", \"train_precision\": \"0.44197\", \"train_recall\": \"0.87814\", \"train_num_updates\": \"13\", \"train_best_loss\": \"6.366\", \"train_f1\": \"0.587999\"}\n",
      "[2025-01-27 11:30:52,164][fairseq_signals.utils.checkpoint_utils][INFO] - preparing to save checkpoint for epoch 2 @ 13 updates\n",
      "[2025-01-27 11:30:52,164][fairseq_signals.trainer][INFO] - Saving checkpoint to checkpoint_last-ft-afib_2y-bce/checkpoint2.pt\n",
      "[2025-01-27 11:30:53,878][fairseq_signals.trainer][INFO] - Finished saving checkpoint to checkpoint_last-ft-afib_2y-bce/checkpoint2.pt\n",
      "[2025-01-27 11:30:56,028][fairseq_signals.utils.checkpoint_utils][INFO] - Save checkpoint checkpoint_last-ft-afib_2y-bce/checkpoint2.pt (epoch 2 @ 13 updates, score 6.366) (writing took 3.8634991149883717 seconds)\n",
      "[2025-01-27 11:30:56,029][fairseq_cli.train][INFO] - end of epoch 2 (average epoch stats below)\n",
      "[2025-01-27 11:30:56,029][train][INFO] - {\"epoch\": 1, \"train_loss\": \"13.273\", \"train_nsignals\": \"124.308\", \"train_accuracy\": \"0.53651\", \"train_em_accuracy\": \"0.53651\", \"train_precision\": \"0.45455\", \"train_recall\": \"0.46715\", \"train_ups\": \"1.28\", \"train_num_updates\": \"13\", \"train_lr\": \"5e-05\", \"train_gnorm\": \"177.168\", \"train_loss_scale\": \"16\", \"train_train_wall\": \"4\", \"train_gb_free\": \"37.6\", \"train_wall\": \"11\"}\n",
      "[2025-01-27 11:30:56,292][fairseq_signals.logging.progress_bar][WARNING] - wandb not found, pip install wandb\n",
      "[2025-01-27 11:30:56,293][fairseq_signals.trainer][INFO] - begin training epoch 3\n",
      "[2025-01-27 11:30:56,294][fairseq_cli.train][INFO] - Start iterating over samples\n",
      "[2025-01-27 11:30:58,466][train_inner][INFO] - {\"epoch\": 3, \"update\": 2.438, \"loss\": \"5.682\", \"nsignals\": \"123.2\", \"accuracy\": \"0.55195\", \"em_accuracy\": \"0.55195\", \"precision\": \"0.4767\", \"recall\": \"0.5057\", \"ups\": \"1.11\", \"num_updates\": \"20\", \"lr\": \"5e-05\", \"gnorm\": \"286.459\", \"loss_scale\": \"16\", \"train_wall\": \"2\", \"gb_free\": \"37.6\", \"wall\": \"14\"}\n",
      "[2025-01-27 11:31:00,710][fairseq_cli.train][INFO] - begin validation on \"train\" subset\n",
      "[2025-01-27 11:31:01,053][fairseq_signals.logging.progress_bar][WARNING] - wandb not found, pip install wandb\n",
      "[2025-01-27 11:31:02,832][train][INFO] - {\"epoch\": 4, \"train_loss\": \"2.315\", \"train_nsignals\": \"125\", \"train_accuracy\": \"0.6185\", \"train_em_accuracy\": \"0.6185\", \"train_precision\": \"0.53685\", \"train_recall\": \"0.64397\", \"train_num_updates\": \"29\", \"train_best_loss\": \"2.315\", \"train_f1\": \"0.585551\"}\n",
      "[2025-01-27 11:31:02,836][fairseq_signals.utils.checkpoint_utils][INFO] - preparing to save checkpoint for epoch 4 @ 29 updates\n",
      "[2025-01-27 11:31:02,837][fairseq_signals.trainer][INFO] - Saving checkpoint to checkpoint_last-ft-afib_2y-bce/checkpoint4.pt\n",
      "[2025-01-27 11:31:04,548][fairseq_signals.trainer][INFO] - Finished saving checkpoint to checkpoint_last-ft-afib_2y-bce/checkpoint4.pt\n",
      "[2025-01-27 11:31:07,596][fairseq_signals.utils.checkpoint_utils][INFO] - Save checkpoint checkpoint_last-ft-afib_2y-bce/checkpoint4.pt (epoch 4 @ 29 updates, score 2.315) (writing took 4.759708050056361 seconds)\n",
      "[2025-01-27 11:31:07,861][fairseq_cli.train][INFO] - end of epoch 4 (average epoch stats below)\n",
      "[2025-01-27 11:31:07,862][train][INFO] - {\"epoch\": 3, \"train_loss\": \"4.128\", \"train_nsignals\": \"125\", \"train_accuracy\": \"0.5585\", \"train_em_accuracy\": \"0.5585\", \"train_precision\": \"0.4738\", \"train_recall\": \"0.49701\", \"train_ups\": \"1.35\", \"train_num_updates\": \"29\", \"train_lr\": \"5e-05\", \"train_gnorm\": \"262.869\", \"train_loss_scale\": \"16\", \"train_train_wall\": \"4\", \"train_gb_free\": \"37.6\", \"train_wall\": \"23\"}\n",
      "[2025-01-27 11:31:08,147][fairseq_signals.logging.progress_bar][WARNING] - wandb not found, pip install wandb\n",
      "[2025-01-27 11:31:08,148][fairseq_signals.trainer][INFO] - begin training epoch 5\n",
      "[2025-01-27 11:31:08,149][fairseq_cli.train][INFO] - Start iterating over samples\n",
      "[2025-01-27 11:31:08,844][train_inner][INFO] - {\"epoch\": 5, \"update\": 4.062, \"loss\": \"3.214\", \"nsignals\": \"123.2\", \"accuracy\": \"0.57224\", \"em_accuracy\": \"0.57224\", \"precision\": \"0.47992\", \"recall\": \"0.49605\", \"ups\": \"0.96\", \"num_updates\": \"30\", \"lr\": \"5e-05\", \"gnorm\": \"212.821\", \"loss_scale\": \"16\", \"train_wall\": \"2\", \"gb_free\": \"37.6\", \"wall\": \"24\"}\n",
      "[2025-01-27 11:31:11,442][train_inner][INFO] - {\"epoch\": 5, \"update\": 4.688, \"loss\": \"2.436\", \"nsignals\": \"128\", \"accuracy\": \"0.62734\", \"em_accuracy\": \"0.62734\", \"precision\": \"0.56009\", \"recall\": \"0.46604\", \"ups\": \"3.85\", \"num_updates\": \"40\", \"lr\": \"5e-05\", \"gnorm\": \"116.657\", \"loss_scale\": \"16\", \"train_wall\": \"2\", \"gb_free\": \"37.6\", \"wall\": \"27\"}\n",
      "[2025-01-27 11:31:12,639][fairseq_cli.train][INFO] - begin validation on \"train\" subset\n",
      "[2025-01-27 11:31:12,905][fairseq_signals.logging.progress_bar][WARNING] - wandb not found, pip install wandb\n",
      "[2025-01-27 11:31:14,670][train][INFO] - {\"epoch\": 6, \"train_loss\": \"2.208\", \"train_nsignals\": \"125\", \"train_accuracy\": \"0.6405\", \"train_em_accuracy\": \"0.6405\", \"train_precision\": \"0.76577\", \"train_recall\": \"0.20311\", \"train_num_updates\": \"45\", \"train_best_loss\": \"2.208\", \"train_f1\": \"0.321063\"}\n",
      "[2025-01-27 11:31:14,674][fairseq_signals.utils.checkpoint_utils][INFO] - preparing to save checkpoint for epoch 6 @ 45 updates\n",
      "[2025-01-27 11:31:14,675][fairseq_signals.trainer][INFO] - Saving checkpoint to checkpoint_last-ft-afib_2y-bce/checkpoint6.pt\n",
      "[2025-01-27 11:31:16,409][fairseq_signals.trainer][INFO] - Finished saving checkpoint to checkpoint_last-ft-afib_2y-bce/checkpoint6.pt\n",
      "[2025-01-27 11:31:19,419][fairseq_signals.utils.checkpoint_utils][INFO] - Save checkpoint checkpoint_last-ft-afib_2y-bce/checkpoint6.pt (epoch 6 @ 45 updates, score 2.208) (writing took 4.74500559491571 seconds)\n",
      "[2025-01-27 11:31:19,638][fairseq_cli.train][INFO] - end of epoch 6 (average epoch stats below)\n",
      "[2025-01-27 11:31:19,639][train][INFO] - {\"epoch\": 5, \"train_loss\": \"2.376\", \"train_nsignals\": \"125\", \"train_accuracy\": \"0.627\", \"train_em_accuracy\": \"0.627\", \"train_precision\": \"0.56259\", \"train_recall\": \"0.48865\", \"train_ups\": \"1.36\", \"train_num_updates\": \"45\", \"train_lr\": \"5e-05\", \"train_gnorm\": \"113.018\", \"train_loss_scale\": \"16\", \"train_train_wall\": \"4\", \"train_gb_free\": \"37.6\", \"train_wall\": \"35\"}\n",
      "[2025-01-27 11:31:19,905][fairseq_signals.logging.progress_bar][WARNING] - wandb not found, pip install wandb\n",
      "[2025-01-27 11:31:19,906][fairseq_signals.trainer][INFO] - begin training epoch 7\n",
      "[2025-01-27 11:31:19,907][fairseq_cli.train][INFO] - Start iterating over samples\n",
      "[2025-01-27 11:31:21,574][train_inner][INFO] - {\"epoch\": 7, \"update\": 6.312, \"loss\": \"2.222\", \"nsignals\": \"123.2\", \"accuracy\": \"0.65016\", \"em_accuracy\": \"0.65016\", \"precision\": \"0.59624\", \"recall\": \"0.49513\", \"ups\": \"0.99\", \"num_updates\": \"50\", \"lr\": \"5e-05\", \"gnorm\": \"104.528\", \"loss_scale\": \"16\", \"train_wall\": \"2\", \"gb_free\": \"37.6\", \"wall\": \"37\"}\n",
      "[2025-01-27 11:31:24,107][train_inner][INFO] - {\"epoch\": 7, \"update\": 6.938, \"loss\": \"2.138\", \"nsignals\": \"123.2\", \"accuracy\": \"0.6737\", \"em_accuracy\": \"0.6737\", \"precision\": \"0.63355\", \"recall\": \"0.54876\", \"ups\": \"3.95\", \"num_updates\": \"60\", \"lr\": \"5e-05\", \"gnorm\": \"81.915\", \"loss_scale\": \"16\", \"train_wall\": \"2\", \"gb_free\": \"37.6\", \"wall\": \"39\"}\n",
      "[2025-01-27 11:31:24,373][fairseq_cli.train][INFO] - begin validation on \"train\" subset\n",
      "[2025-01-27 11:31:24,675][fairseq_signals.logging.progress_bar][WARNING] - wandb not found, pip install wandb\n",
      "[2025-01-27 11:31:26,441][train][INFO] - {\"epoch\": 8, \"train_loss\": \"1.938\", \"train_nsignals\": \"125\", \"train_accuracy\": \"0.7085\", \"train_em_accuracy\": \"0.7085\", \"train_precision\": \"0.75918\", \"train_recall\": \"0.44444\", \"train_num_updates\": \"61\", \"train_best_loss\": \"1.938\", \"train_f1\": \"0.560659\"}\n",
      "[2025-01-27 11:31:26,445][fairseq_signals.utils.checkpoint_utils][INFO] - preparing to save checkpoint for epoch 8 @ 61 updates\n",
      "[2025-01-27 11:31:26,445][fairseq_signals.trainer][INFO] - Saving checkpoint to checkpoint_last-ft-afib_2y-bce/checkpoint8.pt\n",
      "[2025-01-27 11:31:28,160][fairseq_signals.trainer][INFO] - Finished saving checkpoint to checkpoint_last-ft-afib_2y-bce/checkpoint8.pt\n",
      "[2025-01-27 11:31:31,210][fairseq_signals.utils.checkpoint_utils][INFO] - Save checkpoint checkpoint_last-ft-afib_2y-bce/checkpoint8.pt (epoch 8 @ 61 updates, score 1.938) (writing took 4.765342332073487 seconds)\n",
      "[2025-01-27 11:31:31,430][fairseq_cli.train][INFO] - end of epoch 8 (average epoch stats below)\n",
      "[2025-01-27 11:31:31,431][train][INFO] - {\"epoch\": 7, \"train_loss\": \"2.172\", \"train_nsignals\": \"125\", \"train_accuracy\": \"0.666\", \"train_em_accuracy\": \"0.666\", \"train_precision\": \"0.61785\", \"train_recall\": \"0.52927\", \"train_ups\": \"1.36\", \"train_num_updates\": \"61\", \"train_lr\": \"5e-05\", \"train_gnorm\": \"87.445\", \"train_loss_scale\": \"16\", \"train_train_wall\": \"4\", \"train_gb_free\": \"37.6\", \"train_wall\": \"47\"}\n",
      "[2025-01-27 11:31:31,669][fairseq_signals.logging.progress_bar][WARNING] - wandb not found, pip install wandb\n",
      "[2025-01-27 11:31:31,670][fairseq_signals.trainer][INFO] - begin training epoch 9\n",
      "[2025-01-27 11:31:31,670][fairseq_cli.train][INFO] - Start iterating over samples\n",
      "[2025-01-27 11:31:34,453][train_inner][INFO] - {\"epoch\": 9, \"update\": 8.562, \"loss\": \"2.458\", \"nsignals\": \"128\", \"accuracy\": \"0.63906\", \"em_accuracy\": \"0.63906\", \"precision\": \"0.56344\", \"recall\": \"0.50288\", \"ups\": \"0.97\", \"num_updates\": \"70\", \"lr\": \"5e-05\", \"gnorm\": \"148.731\", \"loss_scale\": \"16\", \"train_wall\": \"3\", \"gb_free\": \"37.6\", \"wall\": \"50\"}\n",
      "[2025-01-27 11:31:36,199][fairseq_cli.train][INFO] - begin validation on \"train\" subset\n",
      "[2025-01-27 11:31:36,427][fairseq_signals.logging.progress_bar][WARNING] - wandb not found, pip install wandb\n",
      "[2025-01-27 11:31:38,183][train][INFO] - {\"epoch\": 10, \"train_loss\": \"1.817\", \"train_nsignals\": \"125\", \"train_accuracy\": \"0.7315\", \"train_em_accuracy\": \"0.7315\", \"train_precision\": \"0.8304\", \"train_recall\": \"0.45042\", \"train_num_updates\": \"77\", \"train_best_loss\": \"1.817\", \"train_f1\": \"0.584046\"}\n",
      "[2025-01-27 11:31:38,187][fairseq_signals.utils.checkpoint_utils][INFO] - preparing to save checkpoint for epoch 10 @ 77 updates\n",
      "[2025-01-27 11:31:38,188][fairseq_signals.trainer][INFO] - Saving checkpoint to checkpoint_last-ft-afib_2y-bce/checkpoint10.pt\n",
      "[2025-01-27 11:31:39,960][fairseq_signals.trainer][INFO] - Finished saving checkpoint to checkpoint_last-ft-afib_2y-bce/checkpoint10.pt\n",
      "[2025-01-27 11:31:42,809][fairseq_signals.utils.checkpoint_utils][INFO] - Save checkpoint checkpoint_last-ft-afib_2y-bce/checkpoint10.pt (epoch 10 @ 77 updates, score 1.817) (writing took 4.621905690990388 seconds)\n",
      "[2025-01-27 11:31:43,017][fairseq_cli.train][INFO] - end of epoch 10 (average epoch stats below)\n",
      "[2025-01-27 11:31:43,018][train][INFO] - {\"epoch\": 9, \"train_loss\": \"2.333\", \"train_nsignals\": \"125\", \"train_accuracy\": \"0.653\", \"train_em_accuracy\": \"0.653\", \"train_precision\": \"0.59623\", \"train_recall\": \"0.52927\", \"train_ups\": \"1.38\", \"train_num_updates\": \"77\", \"train_lr\": \"5e-05\", \"train_gnorm\": \"120.869\", \"train_loss_scale\": \"16\", \"train_train_wall\": \"4\", \"train_gb_free\": \"37.6\", \"train_wall\": \"58\"}\n",
      "[2025-01-27 11:31:43,263][fairseq_cli.train][INFO] - done training in 57.9 seconds\n"
     ]
    },
    {
     "data": {
      "text/plain": [
       "0"
      ]
     },
     "execution_count": 30,
     "metadata": {},
     "output_type": "execute_result"
    }
   ],
   "source": [
    "os.system(train_cli)"
   ]
  },
  {
   "cell_type": "code",
   "execution_count": null,
   "metadata": {},
   "outputs": [],
   "source": []
  },
  {
   "cell_type": "markdown",
   "metadata": {},
   "source": [
    "# Prepare Validation Dataset"
   ]
  },
  {
   "cell_type": "code",
   "execution_count": 31,
   "metadata": {},
   "outputs": [
    {
     "name": "stdout",
     "output_type": "stream",
     "text": [
      "(2000, 2500, 12)\n",
      "(2000,)\n"
     ]
    }
   ],
   "source": [
    "x_train_aray = np.load(dataset_dir + '/ptb_xl_afib_2y_val_subset.npy', allow_pickle=False)\n",
    "print(x_train_aray.shape)\n",
    "\n",
    "list_ecg_path = []\n",
    "ecg_signals_path = dataset_dir + '/ecg_files'\n",
    "os.makedirs(ecg_signals_path, exist_ok=True)\n",
    "for i in range(x_train_aray.shape[0]):\n",
    "    ecg_file_path = ecg_signals_path + f'/ecg_{i}.npy'\n",
    "    list_ecg_path.append(ecg_file_path)\n",
    "    np.save(ecg_file_path, x_train_aray[i], allow_pickle=False)\n",
    "    \n",
    "y_train_labels = pd.read_parquet(dataset_dir + '/ptb_xl_afib_2y_val_subset_labels.parquet')\n",
    "labels = y_train_labels['label_2y'].to_numpy()\n",
    "print(labels.shape)\n",
    "\n",
    "# Save labels to a csv file\n",
    "labels_df = pd.DataFrame({'npy_path': list_ecg_path, 'afib_2y': labels})\n",
    "labels_df.to_csv(dataset_dir + '/afib_2y_val_labels.csv', index=False)\n"
   ]
  },
  {
   "cell_type": "code",
   "execution_count": 32,
   "metadata": {},
   "outputs": [],
   "source": [
    "def generate_test_cli(\n",
    "    devices=1,\n",
    "    checkpoint_type='_best',\n",
    "    task='afib_2y',\n",
    "    subset=None,\n",
    "    eval_path='',\n",
    "    is_df=True,\n",
    "    num_labels=1\n",
    "):   \n",
    "    task_path = os.path.join(eval_path, f'checkpoint{checkpoint_type}.pt')\n",
    "    cli = f'CUDA_VISIBLE_DEVICES={devices} fairseq-hydra-inference '\n",
    "    cli += f'task.data=$(pwd)/ssl_manifests/finetuning/{task} '\n",
    "    cli += f'common_eval.path={task_path} '\n",
    "    cli += f'common_eval.results_path={eval_path} '\n",
    "    if is_df:\n",
    "        cli += f'task.df_dataset=true '\n",
    "    else:\n",
    "        cli += f'task.npy_dataset=true '\n",
    "    cli += f'model.num_labels={num_labels} '\n",
    "    if subset is not None:\n",
    "        cli += f'dataset.valid_subset={subset} '\n",
    "    cli += '--config-dir ../fairseq-signals/examples/w2v_cmsc/config/finetuning/ecg_transformer --config-name eval'\n",
    "    return cli\n"
   ]
  },
  {
   "cell_type": "code",
   "execution_count": 33,
   "metadata": {},
   "outputs": [
    {
     "name": "stdout",
     "output_type": "stream",
     "text": [
      "CUDA_VISIBLE_DEVICES=0 fairseq-hydra-inference task.data=$(pwd)/ssl_manifests/finetuning/afib_2y common_eval.path=$(pwd)/outputs/2025-01-27/07-21-43/checkpoint_last-ft-afib_2y-bce/checkpoint_best.pt common_eval.results_path=$(pwd)/outputs/2025-01-27/07-21-43/checkpoint_last-ft-afib_2y-bce task.df_dataset=true model.num_labels=1 dataset.valid_subset=test --config-dir ../fairseq-signals/examples/w2v_cmsc/config/finetuning/ecg_transformer --config-name eval\n"
     ]
    }
   ],
   "source": [
    "\n",
    "testcli = generate_test_cli(\n",
    "    devices=0,\n",
    "    checkpoint_type='_best',\n",
    "    eval_path='$(pwd)/outputs/2025-01-27/07-21-43/checkpoint_last-ft-afib_2y-bce',\n",
    "    task='afib_2y',\n",
    "    is_df=True,\n",
    "    subset='test',\n",
    "    num_labels=1\n",
    ")\n",
    "\n",
    "print(testcli)\n"
   ]
  },
  {
   "cell_type": "code",
   "execution_count": 34,
   "metadata": {},
   "outputs": [
    {
     "name": "stdout",
     "output_type": "stream",
     "text": [
      "---------- {'task': {'data': '/home/jdelfrates/DeepECG_Docker/notebooks/ssl_manifests/finetuning/afib_2y', 'npy_dataset': False}, 'df_dataset': True} None {'_name': 'ecg_classification', 'data': '/home/jdelfrates/DeepECG_Docker/notebooks/ssl_manifests/finetuning/afib_2y', 'leads_to_load': None, 'leads_bucket': None, 'bucket_selection': 'uniform', 'sample_rate': None, 'filter': False, 'normalize': False, 'mean_path': None, 'std_path': None, 'enable_padding': True, 'enable_padding_leads': False, 'max_sample_size': None, 'min_sample_size': None, 'num_batch_buckets': 0, 'precompute_mask_indices': False, 'perturbation_mode': None, 'p': [1.0], 'max_amplitude': 0.1, 'min_amplitude': 0.0, 'dependency': True, 'shift_ratio': 0.2, 'num_segment': 1, 'max_freq': 0.2, 'min_freq': 0.01, 'k': 3, 'mask_leads_selection': 'random', 'mask_leads_prob': 0.5, 'mask_leads_condition': [4, 5], 'inferred_w2v_config': None, 'inferred_3kg_config': None, 'criterion_name': 'binary_cross_entropy_with_logits', 'model_name': None, 'clocs_mode': None, 'path_dataset': False, 'npy_dataset': False, 'df_dataset': True, 'label_file': None, 'load_specific_lead': False}\n",
      "[2025-01-27 11:32:46,627][fairseq_cli.inference][INFO] - loading model from /home/jdelfrates/DeepECG_Docker/notebooks/outputs/2025-01-27/07-21-43/checkpoint_last-ft-afib_2y-bce/checkpoint_best.pt\n",
      "???????????????????? {'_name': 'ecg_classification', 'data': '/home/jdelfrates/DeepECG_Docker/notebooks/ssl_manifests/finetuning/afib_2y', 'leads_to_load': None, 'leads_bucket': None, 'bucket_selection': 'uniform', 'sample_rate': None, 'filter': False, 'normalize': False, 'mean_path': None, 'std_path': None, 'enable_padding': True, 'enable_padding_leads': False, 'max_sample_size': None, 'min_sample_size': None, 'num_batch_buckets': 0, 'precompute_mask_indices': False, 'perturbation_mode': None, 'p': [1.0], 'max_amplitude': 0.1, 'min_amplitude': 0.0, 'dependency': True, 'shift_ratio': 0.2, 'num_segment': 1, 'max_freq': 0.2, 'min_freq': 0.01, 'k': 3, 'mask_leads_selection': 'random', 'mask_leads_prob': 0.5, 'mask_leads_condition': [4, 5], 'inferred_w2v_config': None, 'inferred_3kg_config': None, 'criterion_name': 'binary_cross_entropy_with_logits', 'model_name': None, 'clocs_mode': None, 'path_dataset': False, 'npy_dataset': False, 'df_dataset': True, 'label_file': None, 'load_specific_lead': False}\n",
      "???????????????????? {'_name': 'ecg_pretraining', 'data': '/home/jdelfrates/DeepECG_Docker/notebooks/ssl_manifests/finetuning/afib_2y', 'leads_to_load': None, 'leads_bucket': None, 'bucket_selection': 'uniform', 'sample_rate': None, 'filter': False, 'normalize': False, 'mean_path': None, 'std_path': None, 'enable_padding': True, 'enable_padding_leads': False, 'max_sample_size': None, 'min_sample_size': None, 'num_batch_buckets': 0, 'precompute_mask_indices': False, 'perturbation_mode': ['random_leads_masking'], 'p': [1.0], 'max_amplitude': 0.1, 'min_amplitude': 0.0, 'dependency': True, 'shift_ratio': 0.2, 'num_segment': 1, 'max_freq': 0.2, 'min_freq': 0.01, 'k': 3, 'mask_leads_selection': 'random', 'mask_leads_prob': 0.5, 'mask_leads_condition': [4, 5], 'inferred_w2v_config': None, 'inferred_3kg_config': None, 'criterion_name': 'wav2vec2_with_cmsc', 'model_name': None, 'clocs_mode': None}\n"
     ]
    },
    {
     "name": "stderr",
     "output_type": "stream",
     "text": [
      "/home/jdelfrates/DeepECG_Docker/deploy-venv/lib/python3.9/site-packages/torch/nn/utils/weight_norm.py:30: UserWarning: torch.nn.utils.weight_norm is deprecated in favor of torch.nn.utils.parametrizations.weight_norm.\n",
      "  warnings.warn(\"torch.nn.utils.weight_norm is deprecated in favor of torch.nn.utils.parametrizations.weight_norm.\")\n"
     ]
    },
    {
     "name": "stdout",
     "output_type": "stream",
     "text": [
      "[2025-01-27 11:32:48,790][fairseq_signals.models.transformer][INFO] - Loaded pre-trained model parameters from /mnt/data1/achilsowa/results/fairseq/outputs/2024-09-22/03-16-32/checkpoints-all/checkpoint_last.pt\n",
      "########## {'_name': 'ecg_transformer_classifier', 'all_gather': False, 'normalize': False, 'filter': False, 'data': '/home/jdelfrates/DeepECG_Docker/notebooks/ssl_manifests/finetuning/afib_2y', 'args': {'_name': None, 'common': {'_name': None, 'no_progress_bar': False, 'log_interval': 25, 'log_format': 'json', 'log_file': None, 'wandb_project': 'wav2vec2-pretraining', 'wandb_entity': None, 'seed': 1, 'fp16': True, 'memory_efficient_fp16': False, 'fp16_no_flatten_grads': False, 'fp16_init_scale': 128, 'fp16_scale_window': None, 'fp16_scale_tolerance': 0.0, 'on_cpu_convert_precision': False, 'min_loss_scale': 0.0001, 'threshold_loss_scale': None, 'empty_cache_freq': 0, 'all_gather_list_size': 16384, 'model_parallel_size': 1, 'profile': False, 'reset_logging': False, 'suppress_crashes': False}, 'common_eval': {'_name': None, 'path': None, 'quiet': False, 'model_overrides': '{}', 'save_outputs': False, 'results_path': None}, 'distributed_training': {'_name': None, 'distributed_world_size': 3, 'distributed_rank': 0, 'distributed_backend': 'nccl', 'distributed_init_method': 'tcp://localhost:13127', 'distributed_port': 12355, 'device_id': 0, 'ddp_comm_hook': 'none', 'bucket_cap_mb': 25, 'fix_batches_to_gpus': False, 'find_unused_parameters': False, 'heartbeat_timeout': -1, 'broadcast_buffers': False, 'fp16': True, 'memory_efficient_fp16': False}, 'dataset': {'_name': None, 'num_workers': 6, 'skip_invalid_size_inputs_valid_test': False, 'max_tokens': None, 'batch_size': 342, 'required_batch_size_multiple': 8, 'data_buffer_size': 10, 'train_subset': 'train', 'valid_subset': '', 'combine_valid_subsets': None, 'ignore_unused_valid_subsets': False, 'validate_interval': 1, 'validate_interval_updates': 0, 'validate_after_updates': 0, 'fixed_validation_seed': None, 'disable_validation': True, 'max_tokens_valid': None, 'batch_size_valid': 342, 'max_valid_steps': None, 'curriculum': 0, 'num_shards': 1, 'shard_id': 0}, 'optimization': {'_name': None, 'max_epoch': 1000, 'max_update': 0, 'lr': [5e-05], 'stop_time_hours': 0.0, 'clip_norm': 0.0, 'update_freq': [2], 'stop_min_lr': -1.0}, 'checkpoint': {'_name': None, 'save_dir': 'checkpoints-all', 'restore_file': 'checkpoint_last.pt', 'finetune_from_model': None, 'reset_dataloader': False, 'reset_lr_scheduler': False, 'reset_meters': False, 'reset_optimizer': False, 'optimizer_overrides': '{}', 'save_interval': 25, 'save_interval_updates': 0, 'keep_interval_updates': -1, 'keep_interval_updates_pattern': -1, 'keep_last_epochs': 10, 'keep_best_checkpoints': -1, 'no_save': False, 'no_epoch_checkpoints': False, 'no_last_checkpoints': False, 'no_save_optimizer_state': False, 'best_checkpoint_metric': 'loss', 'maximize_best_checkpoint_metric': False, 'patience': -1, 'checkpoint_suffix': '', 'checkpoint_shard_count': 1, 'load_checkpoint_on_all_dp_ranks': False}, 'model': {'_name': 'wav2vec2_cmsc', 'all_gather': False, 'normalize': False, 'filter': False, 'data': '/media/data1/achilsowa/datasets/fairseq/mhi-mimic-code15/manifest/cmsc/', 'args': None, 'encoder_layers': 12, 'encoder_embed_dim': 768, 'encoder_ffn_embed_dim': 3072, 'encoder_attention_heads': 12, 'layer_norm_first': False, 'dropout': 0.0, 'attention_dropout': 0.0, 'activation_dropout': 0.1, 'encoder_layerdrop': 0.0, 'dropout_input': 0.0, 'dropout_features': 0.1, 'apply_mask': True, 'mask_length': 10, 'mask_prob': 0.65, 'mask_selection': 'static', 'mask_other': 0.0, 'no_mask_overlap': False, 'mask_min_space': 1, 'mask_channel_length': 10, 'mask_channel_prob': 0.0, 'mask_channel_selection': 'static', 'mask_channel_other': 0.0, 'no_mask_channel_overlap': False, 'mask_channel_min_space': 1, 'extractor_mode': 'default', 'conv_feature_layers': '[(256, 2, 2)] * 4', 'in_d': 12, 'conv_bias': False, 'feature_grad_mult': 0.0, 'conv_pos': 128, 'conv_pos_groups': 16, 'logit_temp': 0.1, 'quantize_targets': True, 'quantize_input': False, 'same_quantizer': False, 'target_glu': False, 'latent_vars': 320, 'latent_groups': 2, 'latent_dim': 0, 'final_dim': 256, 'num_negatives': 100, 'negatives_from_everywhere': False, 'cross_sample_negatives': 0, 'codebook_negatives': 0, 'latent_temp': [2.0, 0.5, 0.999995]}, 'task': {'_name': 'ecg_pretraining', 'data': '/media/data1/achilsowa/datasets/fairseq/mhi-mimic-code15/manifest/cmsc/', 'leads_to_load': None, 'leads_bucket': None, 'bucket_selection': 'uniform', 'sample_rate': None, 'filter': False, 'normalize': False, 'mean_path': None, 'std_path': None, 'enable_padding': True, 'enable_padding_leads': False, 'max_sample_size': None, 'min_sample_size': None, 'num_batch_buckets': 0, 'precompute_mask_indices': False, 'perturbation_mode': ['random_leads_masking'], 'p': [1.0], 'max_amplitude': 0.1, 'min_amplitude': 0.0, 'dependency': True, 'shift_ratio': 0.2, 'num_segment': 1, 'max_freq': 0.2, 'min_freq': 0.01, 'k': 3, 'mask_leads_selection': 'random', 'mask_leads_prob': 0.5, 'mask_leads_condition': [4, 5], 'inferred_w2v_config': None, 'inferred_3kg_config': None, 'criterion_name': 'wav2vec2_with_cmsc', 'model_name': None, 'clocs_mode': None}, 'criterion': None, 'lr_scheduler': None, 'optimizer': {'_name': 'adam', 'adam_betas': '(0.9, 0.98)', 'adam_eps': 1e-06, 'weight_decay': 0.01, 'use_old_adam': False, 'lr': [5e-05]}, 'job_logging_cfg': {'version': 1, 'formatters': {'simple': {'format': '[%(asctime)s][%(name)s][%(levelname)s] - %(message)s'}}, 'handlers': {'console': {'class': 'logging.StreamHandler', 'formatter': 'simple', 'stream': 'ext://sys.stdout'}, 'file': {'class': 'logging.FileHandler', 'formatter': 'simple', 'filename': 'hydra_train.log'}}, 'root': {'level': 'INFO', 'handlers': ['console', 'file']}, 'disable_existing_loggers': False}}, 'encoder_layers': 12, 'encoder_embed_dim': 768, 'encoder_ffn_embed_dim': 3072, 'encoder_attention_heads': 12, 'layer_norm_first': False, 'dropout': 0.0, 'attention_dropout': 0.0, 'activation_dropout': 0.1, 'encoder_layerdrop': 0.0, 'dropout_input': 0.0, 'dropout_features': 0.0, 'apply_mask': False, 'mask_length': 10, 'mask_prob': 0.0, 'mask_selection': static, 'mask_other': 0.0, 'no_mask_overlap': False, 'mask_min_space': 1, 'mask_channel_length': 10, 'mask_channel_prob': 0.0, 'mask_channel_selection': static, 'mask_channel_other': 0.0, 'no_mask_channel_overlap': False, 'mask_channel_min_space': 1, 'extractor_mode': 'default', 'conv_feature_layers': '[(256, 2, 2)] * 4', 'in_d': 12, 'conv_bias': False, 'feature_grad_mult': 0.0, 'conv_pos': 128, 'conv_pos_groups': 16, 'model_path': '/mnt/data1/achilsowa/results/fairseq/outputs/2024-09-22/03-16-32/checkpoints-all/checkpoint_last.pt', 'no_pretrained_weights': False, 'freeze_finetune_updates': 0, 'linear_evaluation': None, 'final_dropout': 0.0, 'num_labels': 1}\n",
      "[2025-01-27 11:32:49,099][fairseq_signals.utils.checkpoint_utils][INFO] - Loaded a checkpoint in 2.47s\n",
      "[2025-01-27 11:32:49,100][fairseq_cli.inference][INFO] - num. shared model params: 90,374,017 (num. trained: 90,374,017)\n",
      "[2025-01-27 11:32:49,101][fairseq_cli.inference][INFO] - num. expert model params: 0 (num. trained: 0)\n",
      "[2025-01-27 11:32:49,563][fairseq_cli.inference][INFO] - {'_name': None,\n",
      " 'checkpoint': {'_name': None, 'save_dir': 'checkpoint_last-ft-afib_2y-bce', 'restore_file': 'checkpoint_last.pt', 'finetune_from_model': None, 'reset_dataloader': False, 'reset_lr_scheduler': False, 'reset_meters': False, 'reset_optimizer': False, 'optimizer_overrides': '{}', 'save_interval': 1, 'save_interval_updates': 0, 'keep_interval_updates': -1, 'keep_interval_updates_pattern': -1, 'keep_last_epochs': 1, 'keep_best_checkpoints': -1, 'no_save': False, 'no_epoch_checkpoints': False, 'no_last_checkpoints': False, 'no_save_optimizer_state': False, 'best_checkpoint_metric': 'loss', 'maximize_best_checkpoint_metric': False, 'patience': 30, 'checkpoint_suffix': '', 'checkpoint_shard_count': 1, 'load_checkpoint_on_all_dp_ranks': False},\n",
      " 'common': {'_name': None, 'no_progress_bar': False, 'log_interval': 10, 'log_format': 'json', 'log_file': None, 'wandb_project': 'diagnosis-prediction', 'wandb_entity': None, 'seed': 1, 'fp16': True, 'memory_efficient_fp16': False, 'fp16_no_flatten_grads': False, 'fp16_init_scale': 128, 'fp16_scale_window': None, 'fp16_scale_tolerance': 0.0, 'on_cpu_convert_precision': False, 'min_loss_scale': 0.0001, 'threshold_loss_scale': None, 'empty_cache_freq': 0, 'all_gather_list_size': 2048000, 'model_parallel_size': 1, 'profile': False, 'reset_logging': False, 'suppress_crashes': False},\n",
      " 'common_eval': {'_name': None, 'path': None, 'quiet': False, 'model_overrides': '{}', 'save_outputs': False, 'results_path': None},\n",
      " 'criterion': {'_name': 'binary_cross_entropy_with_logits', 'weight': None, 'threshold': 0.5, 'report_auc': True, 'auc_average': 'macro', 'pos_weight': None, 'report_cinc_score': False, 'weights_file': '???', 'per_log_keys': []},\n",
      " 'dataset': {'_name': None, 'num_workers': 6, 'skip_invalid_size_inputs_valid_test': False, 'max_tokens': None, 'batch_size': 128, 'required_batch_size_multiple': 8, 'data_buffer_size': 10, 'train_subset': 'train', 'valid_subset': 'train', 'combine_valid_subsets': None, 'ignore_unused_valid_subsets': False, 'validate_interval': 1, 'validate_interval_updates': 0, 'validate_after_updates': 0, 'fixed_validation_seed': None, 'disable_validation': False, 'max_tokens_valid': None, 'batch_size_valid': 128, 'max_valid_steps': None, 'curriculum': 0, 'num_shards': 1, 'shard_id': 0},\n",
      " 'distributed_training': {'_name': None, 'distributed_world_size': 1, 'distributed_rank': 0, 'distributed_backend': 'nccl', 'distributed_init_method': None, 'distributed_port': 12355, 'device_id': 0, 'ddp_comm_hook': 'none', 'bucket_cap_mb': 25, 'fix_batches_to_gpus': False, 'find_unused_parameters': False, 'heartbeat_timeout': -1, 'broadcast_buffers': False, 'fp16': True, 'memory_efficient_fp16': False},\n",
      " 'job_logging_cfg': {'version': 1, 'formatters': {'simple': {'format': '[%(asctime)s][%(name)s][%(levelname)s] - %(message)s'}}, 'handlers': {'console': {'class': 'logging.StreamHandler', 'formatter': 'simple', 'stream': 'ext://sys.stdout'}, 'file': {'class': 'logging.FileHandler', 'formatter': 'simple', 'filename': 'hydra_train.log'}}, 'root': {'level': 'INFO', 'handlers': ['console', 'file']}, 'disable_existing_loggers': False},\n",
      " 'lr_scheduler': {'_name': 'fixed', 'force_anneal': None, 'lr_shrink': 0.1, 'warmup_updates': 0, 'lr': [5e-05]},\n",
      " 'model': {'_name': 'ecg_transformer_classifier', 'all_gather': False, 'normalize': False, 'filter': False, 'data': '/home/jdelfrates/DeepECG_Docker/notebooks/ssl_manifests/finetuning/afib_2y', 'args': None, 'encoder_layers': 12, 'encoder_embed_dim': 768, 'encoder_ffn_embed_dim': 3072, 'encoder_attention_heads': 12, 'layer_norm_first': False, 'dropout': 0.0, 'attention_dropout': 0.0, 'activation_dropout': 0.1, 'encoder_layerdrop': 0.0, 'dropout_input': 0.0, 'dropout_features': 0.0, 'apply_mask': False, 'mask_length': 10, 'mask_prob': 0.0, 'mask_selection': 'static', 'mask_other': 0.0, 'no_mask_overlap': False, 'mask_min_space': 1, 'mask_channel_length': 10, 'mask_channel_prob': 0.0, 'mask_channel_selection': 'static', 'mask_channel_other': 0.0, 'no_mask_channel_overlap': False, 'mask_channel_min_space': 1, 'extractor_mode': 'default', 'conv_feature_layers': '[(256, 2, 2)] * 4', 'in_d': 12, 'conv_bias': False, 'feature_grad_mult': 0.0, 'conv_pos': 128, 'conv_pos_groups': 16, 'model_path': '/mnt/data1/achilsowa/results/fairseq/outputs/2024-09-22/03-16-32/checkpoints-all/checkpoint_last.pt', 'no_pretrained_weights': False, 'freeze_finetune_updates': 0, 'linear_evaluation': None, 'final_dropout': 0.0, 'num_labels': 1},\n",
      " 'optimization': {'_name': None, 'max_epoch': 10, 'max_update': 32000000, 'lr': [5e-05], 'stop_time_hours': 0.0, 'clip_norm': 0.0, 'update_freq': [1], 'stop_min_lr': -1.0},\n",
      " 'optimizer': {'_name': 'adam', 'adam_betas': '(0.9, 0.98)', 'adam_eps': 1e-08, 'weight_decay': 0.0, 'use_old_adam': False, 'lr': [5e-05]},\n",
      " 'task': {'_name': 'ecg_classification', 'data': '/home/jdelfrates/DeepECG_Docker/notebooks/ssl_manifests/finetuning/afib_2y', 'leads_to_load': None, 'leads_bucket': None, 'bucket_selection': 'uniform', 'sample_rate': None, 'filter': False, 'normalize': False, 'mean_path': None, 'std_path': None, 'enable_padding': True, 'enable_padding_leads': False, 'max_sample_size': None, 'min_sample_size': None, 'num_batch_buckets': 0, 'precompute_mask_indices': False, 'perturbation_mode': None, 'p': [1.0], 'max_amplitude': 0.1, 'min_amplitude': 0.0, 'dependency': True, 'shift_ratio': 0.2, 'num_segment': 1, 'max_freq': 0.2, 'min_freq': 0.01, 'k': 3, 'mask_leads_selection': 'random', 'mask_leads_prob': 0.5, 'mask_leads_condition': [4, 5], 'inferred_w2v_config': None, 'inferred_3kg_config': None, 'criterion_name': 'binary_cross_entropy_with_logits', 'model_name': None, 'clocs_mode': None, 'path_dataset': False, 'npy_dataset': False, 'df_dataset': True, 'label_file': None, 'load_specific_lead': False}}\n",
      "########## ['afib_2y']                                                npy_path  afib_2y\n",
      "0     /home/jdelfrates/DeepECG_Docker/notebooks/ptb-...        0\n",
      "1     /home/jdelfrates/DeepECG_Docker/notebooks/ptb-...        0\n",
      "2     /home/jdelfrates/DeepECG_Docker/notebooks/ptb-...        0\n",
      "3     /home/jdelfrates/DeepECG_Docker/notebooks/ptb-...        0\n",
      "4     /home/jdelfrates/DeepECG_Docker/notebooks/ptb-...        0\n",
      "...                                                 ...      ...\n",
      "1995  /home/jdelfrates/DeepECG_Docker/notebooks/ptb-...        0\n",
      "1996  /home/jdelfrates/DeepECG_Docker/notebooks/ptb-...        1\n",
      "1997  /home/jdelfrates/DeepECG_Docker/notebooks/ptb-...        1\n",
      "1998  /home/jdelfrates/DeepECG_Docker/notebooks/ptb-...        1\n",
      "1999  /home/jdelfrates/DeepECG_Docker/notebooks/ptb-...        1\n",
      "\n",
      "[2000 rows x 2 columns] 2000 /home/jdelfrates/DeepECG_Docker/notebooks/ptb-xl_lite/afib_2y_labels.csv\n",
      "[2025-01-27 11:32:49,682][fairseq_cli.inference][INFO] - begin inference on test subset\n",
      "[2025-01-27 11:32:50,182][fairseq_signals.logging.progress_bar][WARNING] - wandb not found, pip install wandb\n"
     ]
    },
    {
     "data": {
      "text/plain": [
       "0"
      ]
     },
     "execution_count": 34,
     "metadata": {},
     "output_type": "execute_result"
    }
   ],
   "source": [
    "os.system(testcli)"
   ]
  },
  {
   "cell_type": "code",
   "execution_count": 35,
   "metadata": {},
   "outputs": [
    {
     "name": "stdout",
     "output_type": "stream",
     "text": [
      "-rw-rw-r--. 1 jdelfrates jdelfrates 49 Jan 27 11:32 /home/jdelfrates/DeepECG_Docker/notebooks/outputs/2025-01-27/07-21-43/checkpoint_last-ft-afib_2y-bce/outputs_test_header.pkl\n",
      "-rw-rw-r--. 1 jdelfrates jdelfrates 4000 Jan 27 11:32 /home/jdelfrates/DeepECG_Docker/notebooks/outputs/2025-01-27/07-21-43/checkpoint_last-ft-afib_2y-bce/outputs_test.npy\n"
     ]
    }
   ],
   "source": [
    "# Check the results\n",
    "!ls -l $(pwd)/outputs/2025-01-27/07-21-43/checkpoint_last-ft-afib_2y-bce/outputs_test_header.pkl\n",
    "!ls -l $(pwd)/outputs/2025-01-27/07-21-43/checkpoint_last-ft-afib_2y-bce/outputs_test.npy"
   ]
  },
  {
   "cell_type": "code",
   "execution_count": null,
   "metadata": {},
   "outputs": [],
   "source": []
  },
  {
   "cell_type": "code",
   "execution_count": null,
   "metadata": {},
   "outputs": [],
   "source": []
  }
 ],
 "metadata": {
  "kernelspec": {
   "display_name": "deploy-venv",
   "language": "python",
   "name": "python3"
  },
  "language_info": {
   "codemirror_mode": {
    "name": "ipython",
    "version": 3
   },
   "file_extension": ".py",
   "mimetype": "text/x-python",
   "name": "python",
   "nbconvert_exporter": "python",
   "pygments_lexer": "ipython3",
   "version": "3.9.12"
  }
 },
 "nbformat": 4,
 "nbformat_minor": 2
}
